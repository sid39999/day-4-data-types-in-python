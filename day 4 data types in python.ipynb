{
 "cells": [
  {
   "cell_type": "markdown",
   "id": "bb9c853e",
   "metadata": {},
   "source": [
    "# Data Types In Python"
   ]
  },
  {
   "cell_type": "raw",
   "id": "77c20537",
   "metadata": {},
   "source": [
    "In Python, data types are classifications that categorize various types of values that can be manipulated by the program. \n",
    "\n",
    "Here are some commonly used data types in Python:"
   ]
  },
  {
   "cell_type": "markdown",
   "id": "36c3d0d8",
   "metadata": {},
   "source": [
    "# Numeric Types:\n",
    "\n",
    "int: Integer data type (e.g., 1, 42, -10).\n",
    "float: Floating-point data type for real numbers (e.g., 3.14, -0.5)."
   ]
  },
  {
   "cell_type": "code",
   "execution_count": 1,
   "id": "bc46fc1b",
   "metadata": {},
   "outputs": [
    {
     "name": "stdout",
     "output_type": "stream",
     "text": [
      "123\n"
     ]
    }
   ],
   "source": [
    "a = 123\n",
    "print(a)"
   ]
  },
  {
   "cell_type": "code",
   "execution_count": 2,
   "id": "2b543b7e",
   "metadata": {},
   "outputs": [
    {
     "name": "stdout",
     "output_type": "stream",
     "text": [
      "<class 'int'>\n"
     ]
    }
   ],
   "source": [
    "print(type(a))"
   ]
  },
  {
   "cell_type": "code",
   "execution_count": 3,
   "id": "28d54d0f",
   "metadata": {},
   "outputs": [
    {
     "name": "stdout",
     "output_type": "stream",
     "text": [
      "0.123\n"
     ]
    }
   ],
   "source": [
    "b= 0.123\n",
    "print(b)"
   ]
  },
  {
   "cell_type": "code",
   "execution_count": 4,
   "id": "81382b64",
   "metadata": {},
   "outputs": [
    {
     "name": "stdout",
     "output_type": "stream",
     "text": [
      "<class 'float'>\n"
     ]
    }
   ],
   "source": [
    "print(type(b))"
   ]
  },
  {
   "cell_type": "markdown",
   "id": "ae86ffd5",
   "metadata": {},
   "source": [
    "# Text Type:\n",
    "str: String data type for text (e.g., \"Hello, World!\", 'Python')."
   ]
  },
  {
   "cell_type": "code",
   "execution_count": 5,
   "id": "96d3eec1",
   "metadata": {},
   "outputs": [
    {
     "name": "stdout",
     "output_type": "stream",
     "text": [
      "python hello kaise ho\n"
     ]
    }
   ],
   "source": [
    "c = 'python hello kaise ho'\n",
    "print(c)"
   ]
  },
  {
   "cell_type": "code",
   "execution_count": 6,
   "id": "c8d9fd48",
   "metadata": {},
   "outputs": [
    {
     "name": "stdout",
     "output_type": "stream",
     "text": [
      "<class 'str'>\n"
     ]
    }
   ],
   "source": [
    "print(type(c))"
   ]
  },
  {
   "cell_type": "markdown",
   "id": "d1325cb3",
   "metadata": {},
   "source": [
    "# Boolean Type:\n",
    "bool: Boolean data type for true/false values."
   ]
  },
  {
   "cell_type": "code",
   "execution_count": 8,
   "id": "e537c3b7",
   "metadata": {},
   "outputs": [
    {
     "name": "stdout",
     "output_type": "stream",
     "text": [
      "False\n"
     ]
    }
   ],
   "source": [
    "age = 13\n",
    "g = (age == 23)\n",
    "print(g)      \n"
   ]
  }
 ],
 "metadata": {
  "kernelspec": {
   "display_name": "Python 3 (ipykernel)",
   "language": "python",
   "name": "python3"
  },
  "language_info": {
   "codemirror_mode": {
    "name": "ipython",
    "version": 3
   },
   "file_extension": ".py",
   "mimetype": "text/x-python",
   "name": "python",
   "nbconvert_exporter": "python",
   "pygments_lexer": "ipython3",
   "version": "3.11.5"
  }
 },
 "nbformat": 4,
 "nbformat_minor": 5
}
